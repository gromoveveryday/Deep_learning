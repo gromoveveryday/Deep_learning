{
 "cells": [
  {
   "cell_type": "code",
   "execution_count": 149,
   "metadata": {},
   "outputs": [],
   "source": [
    "import numpy as np\n",
    "import pandas as pd\n",
    "import random\n",
    "import statistics\n",
    "\n",
    "random.seed(42)\n",
    "np.random.seed(42)\n",
    "\n",
    "array = pd.read_csv('var3.csv').values\n",
    "std = 7\n",
    "variance = std ** 2\n",
    "mu = 0.001 \n",
    "n = len(array)\n",
    "m_0 = 1  \n",
    "s_0_2 = 1"
   ]
  },
  {
   "cell_type": "code",
   "execution_count": 150,
   "metadata": {},
   "outputs": [],
   "source": [
    "def find_best_s2_m(array, variance, n, m_0, s_0_2, mu, max_iters=1000000): # Функция поиска оптимальных m и s2\n",
    "\n",
    "    m = m_0\n",
    "    s_2 = s_0_2\n",
    "    list_of_m0 = []\n",
    "    list_of_s2 = []\n",
    "\n",
    "    for _ in range(max_iters):\n",
    "        for_slice = random.randint(1, n - 50)\n",
    "        x_ = array[for_slice:for_slice + 50].mean()\n",
    "\n",
    "        m = ((n * x_ / variance) + (m / s_2)) / ((n / variance) + (1 / s_2))\n",
    "        s_2 = 1 / ((n / variance) + (1 / s_2))\n",
    "\n",
    "        list_of_m0.append(m)\n",
    "        list_of_s2.append(s_2)\n",
    "\n",
    "        if len(list_of_m0) > 5000:  # Проверяем сходимость по последним 5000 значениям \n",
    "            stddev_m = statistics.stdev(list_of_m0[-5000:])\n",
    "            if stddev_m <= mu:\n",
    "                break\n",
    "\n",
    "    return statistics.mean(list_of_m0), statistics.mean(list_of_s2)\n"
   ]
  },
  {
   "cell_type": "code",
   "execution_count": 151,
   "metadata": {},
   "outputs": [],
   "source": [
    "def estimate_mean(array, variance, n, optimal_m0, optimal_s_2, mu, max_iters=1000000): # Сама фунция вариационного выхода с оптимальными m и s2\n",
    "\n",
    "    m = optimal_m0\n",
    "    s_2 = optimal_s_2\n",
    "    list_of_ms = []\n",
    "\n",
    "    for i in range(max_iters):\n",
    "        for_slice = random.randint(1, n - 50)\n",
    "        x_ = array[for_slice:for_slice + 50].mean()\n",
    "\n",
    "        m = ((n * x_ / variance) + (m / s_2)) / ((n / variance) + (1 / s_2))\n",
    "        s_2 = 1 / ((n / variance) + (1 / s_2))\n",
    "\n",
    "        list_of_ms.append(m)\n",
    "\n",
    "        if len(list_of_ms) > 5000:  # Проверяем сходимость по последним 5000 значениям\n",
    "            stddev_m = statistics.stdev(list_of_ms[-5000:])\n",
    "            if stddev_m <= mu:\n",
    "                return i + 1, statistics.mean(list_of_ms), stddev_m\n",
    "\n",
    "    return max_iters, statistics.mean(list_of_ms), statistics.stdev(list_of_ms) # Если не достигнута сходимость за max_iters итераций"
   ]
  },
  {
   "cell_type": "code",
   "execution_count": 152,
   "metadata": {},
   "outputs": [
    {
     "name": "stdout",
     "output_type": "stream",
     "text": [
      "Количество эпох:  18296\n",
      "Полученное среднее значение нормального отклонения в генеграции данных:  17.737154816709275\n",
      "Ошибка между нормальными отклонениями:  0.00099933685316085\n"
     ]
    }
   ],
   "source": [
    "optimal_m0, optimal_s_2 = find_best_s2_m(array, variance, n, m_0, s_0_2, mu)\n",
    "\n",
    "iterations, estimated_mean, estimated_stddev = estimate_mean(array, variance, n, optimal_m0, optimal_s_2, mu)\n",
    "\n",
    "print('Количество эпох: ', iterations)\n",
    "print('Полученное среднее значение нормального отклонения в генеграции данных: ', estimated_mean)\n",
    "print('Ошибка между нормальными отклонениями: ', estimated_stddev)"
   ]
  }
 ],
 "metadata": {
  "kernelspec": {
   "display_name": "Python 3",
   "language": "python",
   "name": "python3"
  },
  "language_info": {
   "codemirror_mode": {
    "name": "ipython",
    "version": 3
   },
   "file_extension": ".py",
   "mimetype": "text/x-python",
   "name": "python",
   "nbconvert_exporter": "python",
   "pygments_lexer": "ipython3",
   "version": "3.9.13"
  }
 },
 "nbformat": 4,
 "nbformat_minor": 2
}
