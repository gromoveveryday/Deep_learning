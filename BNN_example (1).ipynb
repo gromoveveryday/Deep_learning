{
 "cells": [
  {
   "cell_type": "code",
   "execution_count": 93,
   "id": "bf5550cb",
   "metadata": {},
   "outputs": [],
   "source": [
    "import torch\n",
    "import torch.nn as nn\n",
    "import torch.nn.functional as F\n",
    "import numpy as np\n",
    "import matplotlib.pyplot as plt\n",
    "import pandas as pd\n",
    "from sklearn.linear_model import LinearRegression"
   ]
  },
  {
   "cell_type": "code",
   "execution_count": 94,
   "id": "eb449799",
   "metadata": {},
   "outputs": [],
   "source": [
    "df = pd.read_csv('var3.csv')"
   ]
  },
  {
   "cell_type": "code",
   "execution_count": 95,
   "id": "d36eed1c",
   "metadata": {},
   "outputs": [
    {
     "data": {
      "text/html": [
       "<div>\n",
       "<style scoped>\n",
       "    .dataframe tbody tr th:only-of-type {\n",
       "        vertical-align: middle;\n",
       "    }\n",
       "\n",
       "    .dataframe tbody tr th {\n",
       "        vertical-align: top;\n",
       "    }\n",
       "\n",
       "    .dataframe thead th {\n",
       "        text-align: right;\n",
       "    }\n",
       "</style>\n",
       "<table border=\"1\" class=\"dataframe\">\n",
       "  <thead>\n",
       "    <tr style=\"text-align: right;\">\n",
       "      <th></th>\n",
       "      <th>Unnamed: 0</th>\n",
       "      <th>X</th>\n",
       "      <th>y</th>\n",
       "    </tr>\n",
       "  </thead>\n",
       "  <tbody>\n",
       "    <tr>\n",
       "      <th>count</th>\n",
       "      <td>200.000000</td>\n",
       "      <td>2.000000e+02</td>\n",
       "      <td>200.000000</td>\n",
       "    </tr>\n",
       "    <tr>\n",
       "      <th>mean</th>\n",
       "      <td>99.500000</td>\n",
       "      <td>1.421085e-16</td>\n",
       "      <td>0.312396</td>\n",
       "    </tr>\n",
       "    <tr>\n",
       "      <th>std</th>\n",
       "      <td>57.879185</td>\n",
       "      <td>2.326801e+00</td>\n",
       "      <td>31.846644</td>\n",
       "    </tr>\n",
       "    <tr>\n",
       "      <th>min</th>\n",
       "      <td>0.000000</td>\n",
       "      <td>-4.000000e+00</td>\n",
       "      <td>-93.957604</td>\n",
       "    </tr>\n",
       "    <tr>\n",
       "      <th>25%</th>\n",
       "      <td>49.750000</td>\n",
       "      <td>-2.000000e+00</td>\n",
       "      <td>-8.162983</td>\n",
       "    </tr>\n",
       "    <tr>\n",
       "      <th>50%</th>\n",
       "      <td>99.500000</td>\n",
       "      <td>-2.498002e-16</td>\n",
       "      <td>-0.062606</td>\n",
       "    </tr>\n",
       "    <tr>\n",
       "      <th>75%</th>\n",
       "      <td>149.250000</td>\n",
       "      <td>2.000000e+00</td>\n",
       "      <td>10.204757</td>\n",
       "    </tr>\n",
       "    <tr>\n",
       "      <th>max</th>\n",
       "      <td>199.000000</td>\n",
       "      <td>4.000000e+00</td>\n",
       "      <td>112.966234</td>\n",
       "    </tr>\n",
       "  </tbody>\n",
       "</table>\n",
       "</div>"
      ],
      "text/plain": [
       "       Unnamed: 0             X           y\n",
       "count  200.000000  2.000000e+02  200.000000\n",
       "mean    99.500000  1.421085e-16    0.312396\n",
       "std     57.879185  2.326801e+00   31.846644\n",
       "min      0.000000 -4.000000e+00  -93.957604\n",
       "25%     49.750000 -2.000000e+00   -8.162983\n",
       "50%     99.500000 -2.498002e-16   -0.062606\n",
       "75%    149.250000  2.000000e+00   10.204757\n",
       "max    199.000000  4.000000e+00  112.966234"
      ]
     },
     "execution_count": 95,
     "metadata": {},
     "output_type": "execute_result"
    }
   ],
   "source": [
    "df.describe()"
   ]
  },
  {
   "cell_type": "code",
   "execution_count": 96,
   "id": "713ed2cf",
   "metadata": {},
   "outputs": [
    {
     "data": {
      "text/plain": [
       "<Axes: >"
      ]
     },
     "execution_count": 96,
     "metadata": {},
     "output_type": "execute_result"
    },
    {
     "data": {
      "image/png": "[encoded data removed]",
      "text/plain": [
       "<Figure size 640x480 with 1 Axes>"
      ]
     },
     "metadata": {},
     "output_type": "display_data"
    }
   ],
   "source": [
    "df['X'].hist() # Равномерное распределение (униформное)"
   ]
  },
  {
   "cell_type": "code",
   "execution_count": 97,
   "id": "d8058283",
   "metadata": {},
   "outputs": [],
   "source": [
    "df_x_std = (df['X'].max() - df['X'].min()) / (12 ** 0.5) # Стандартное отклонение для униформного распределения)"
   ]
  },
  {
   "cell_type": "code",
   "execution_count": 98,
   "id": "45e0cac2",
   "metadata": {},
   "outputs": [],
   "source": [
    "X, y = torch.tensor(df['X'].values.reshape(-1, 1), dtype=torch.float32),torch.tensor(df['y'].values.reshape(-1, 1), dtype=torch.float32)"
   ]
  },
  {
   "cell_type": "code",
   "execution_count": 99,
   "id": "d2d79055",
   "metadata": {},
   "outputs": [],
   "source": [
    "# Определение байесовского линейного слоя\n",
    "class BayesianLinear(nn.Module):\n",
    "    def __init__(self, in_features, out_features, prior_sigma=df_x_std):\n",
    "        super().__init__()\n",
    "        self.in_features = in_features\n",
    "        self.out_features = out_features\n",
    "        \n",
    "        # Weight parameters\n",
    "        self.weight_mu = nn.Parameter(torch.Tensor(out_features, in_features).normal_(0, 0.1))\n",
    "        self.weight_rho = nn.Parameter(torch.Tensor(out_features, in_features).normal_(0, 0.1))\n",
    "        \n",
    "        # Bias parameters\n",
    "        self.bias_mu = nn.Parameter(torch.Tensor(out_features).normal_(0, 0.1))\n",
    "        self.bias_rho = nn.Parameter(torch.Tensor(out_features).normal_(0, 0.1))\n",
    "        \n",
    "        # Prior\n",
    "        self.prior_sigma = prior_sigma\n",
    "        self.register_buffer('weight_eps', torch.zeros(out_features, in_features))\n",
    "        self.register_buffer('bias_eps', torch.zeros(out_features))\n",
    "\n",
    "    def forward(self, x, sample=True):\n",
    "        if sample:\n",
    "            # Sample weights\n",
    "            weight_sigma = torch.log1p(torch.exp(self.weight_rho))\n",
    "            bias_sigma = torch.log1p(torch.exp(self.bias_rho))\n",
    "            \n",
    "            weight = self.weight_mu + weight_sigma * torch.randn_like(weight_sigma)\n",
    "            bias = self.bias_mu + bias_sigma * torch.randn_like(bias_sigma)\n",
    "        else:\n",
    "            weight = self.weight_mu\n",
    "            bias = self.bias_mu\n",
    "            \n",
    "        return F.linear(x, weight, bias)\n",
    "\n",
    "    def kl_divergence(self):\n",
    "        weight_sigma = torch.log1p(torch.exp(self.weight_rho))\n",
    "        bias_sigma = torch.log1p(torch.exp(self.bias_rho))\n",
    "        \n",
    "        kl = 0.5 * (\n",
    "            (weight_sigma**2 + self.weight_mu**2).sum() / self.prior_sigma**2\n",
    "            - torch.log(weight_sigma**2).sum()\n",
    "            + (bias_sigma**2 + self.bias_mu**2).sum() / self.prior_sigma**2\n",
    "            - torch.log(bias_sigma**2).sum()\n",
    "        ) - (self.in_features + 1) * self.out_features\n",
    "        \n",
    "        return kl"
   ]
  },
  {
   "cell_type": "code",
   "execution_count": 104,
   "id": "2702ce97",
   "metadata": {},
   "outputs": [],
   "source": [
    "# Определение BNN модели\n",
    "class BNN(nn.Module):\n",
    "    def __init__(self):\n",
    "        super().__init__()\n",
    "        self.layer1 = BayesianLinear(1, 8)\n",
    "        self.layer2 = BayesianLinear(8, 1)\n",
    "\n",
    "    def forward(self, x, sample=True):\n",
    "        x = self.layer1(x, sample)\n",
    "        x = self.layer2(x, sample)\n",
    "        return x\n",
    "\n",
    "    def kl_loss(self):\n",
    "        return (self.layer1.kl_divergence() \n",
    "    + self.layer2.kl_divergence())"
   ]
  },
  {
   "cell_type": "code",
   "execution_count": 105,
   "id": "5fcee936",
   "metadata": {},
   "outputs": [
    {
     "name": "stdout",
     "output_type": "stream",
     "text": [
      "Epoch 0: MSE Loss = 1379.412, KL Loss = -14.830\n",
      "Epoch 200: MSE Loss = 943.541, KL Loss = -14.377\n",
      "Epoch 400: MSE Loss = 969.006, KL Loss = -14.021\n",
      "Epoch 600: MSE Loss = 1405.493, KL Loss = -13.674\n",
      "Epoch 800: MSE Loss = 1037.174, KL Loss = -13.204\n",
      "Epoch 1000: MSE Loss = 902.963, KL Loss = -12.737\n",
      "Epoch 1200: MSE Loss = 684.341, KL Loss = -12.303\n",
      "Epoch 1400: MSE Loss = 993.635, KL Loss = -11.800\n",
      "Epoch 1600: MSE Loss = 820.145, KL Loss = -11.212\n",
      "Epoch 1800: MSE Loss = 776.770, KL Loss = -10.482\n",
      "Epoch 2000: MSE Loss = 573.111, KL Loss = -9.824\n",
      "Epoch 2200: MSE Loss = 587.591, KL Loss = -8.998\n",
      "Epoch 2400: MSE Loss = 279.792, KL Loss = -8.148\n",
      "Epoch 2600: MSE Loss = 463.080, KL Loss = -7.335\n",
      "Epoch 2800: MSE Loss = 270.097, KL Loss = -6.550\n",
      "Epoch 3000: MSE Loss = 505.908, KL Loss = -5.798\n",
      "Epoch 3200: MSE Loss = 267.629, KL Loss = -5.123\n",
      "Epoch 3400: MSE Loss = 304.965, KL Loss = -4.458\n",
      "Epoch 3600: MSE Loss = 268.129, KL Loss = -3.796\n",
      "Epoch 3800: MSE Loss = 298.653, KL Loss = -3.161\n",
      "Epoch 4000: MSE Loss = 283.638, KL Loss = -2.543\n",
      "Epoch 4200: MSE Loss = 275.384, KL Loss = -1.876\n",
      "Epoch 4400: MSE Loss = 278.426, KL Loss = -1.268\n",
      "Epoch 4600: MSE Loss = 296.755, KL Loss = -0.694\n",
      "Epoch 4800: MSE Loss = 268.119, KL Loss = -0.062\n",
      "Epoch 5000: MSE Loss = 275.663, KL Loss = 0.503\n",
      "Epoch 5200: MSE Loss = 279.588, KL Loss = 1.128\n",
      "Epoch 5400: MSE Loss = 333.973, KL Loss = 1.803\n",
      "Epoch 5600: MSE Loss = 270.574, KL Loss = 2.436\n",
      "Epoch 5800: MSE Loss = 267.404, KL Loss = 2.940\n",
      "Epoch 6000: MSE Loss = 270.541, KL Loss = 3.632\n",
      "Epoch 6200: MSE Loss = 304.415, KL Loss = 4.234\n",
      "Epoch 6400: MSE Loss = 289.402, KL Loss = 4.882\n",
      "Epoch 6600: MSE Loss = 322.384, KL Loss = 5.547\n",
      "Epoch 6800: MSE Loss = 268.389, KL Loss = 6.190\n"
     ]
    },
    {
     "data": {
      "image/png": "[encoded data removed]",
      "text/plain": [
       "<Figure size 1000x500 with 1 Axes>"
      ]
     },
     "metadata": {},
     "output_type": "display_data"
    }
   ],
   "source": [
    "# Обучение модели\n",
    "model = BNN()\n",
    "optimizer = torch.optim.Adam(model.parameters(), lr=0.001)\n",
    "n_epochs = 7000\n",
    "\n",
    "for epoch in range(n_epochs):\n",
    "    optimizer.zero_grad()\n",
    "    \n",
    "    # Forward pass с сэмплированными весами\n",
    "    preds = model(X)\n",
    "    \n",
    "    # Расчет потерь\n",
    "    mse_loss = F.mse_loss(preds, y)\n",
    "    kl_loss = model.kl_loss()\n",
    "    total_loss = mse_loss + kl_loss / len(X)\n",
    "    \n",
    "    # Backpropagation\n",
    "    total_loss.backward()\n",
    "    optimizer.step()\n",
    "    \n",
    "    if epoch % 200 == 0:\n",
    "        print(f'Epoch {epoch}: MSE Loss = {mse_loss.item():.3f}, KL Loss = {kl_loss.item():.3f}')\n",
    "\n",
    "# Визуализация предсказаний\n",
    "model.eval()\n",
    "with torch.no_grad():\n",
    "    samples = [model(X).numpy() for _ in range(100)]\n",
    "    y_mean = np.mean(samples, axis=0)\n",
    "    y_std = np.std(samples, axis=0)\n",
    "\n",
    "plt.figure(figsize=(10, 5))\n",
    "plt.scatter(X.numpy(), y.numpy(), alpha=0.3, label='Данные')\n",
    "plt.plot(X.numpy(), y_mean, 'r', lw=2, label='Среднее предсказание')\n",
    "plt.fill_between(X.numpy().ravel(), \n",
    "                y_mean.ravel() - 2*y_std.ravel(),\n",
    "                y_mean.ravel() + 2*y_std.ravel(),\n",
    "                alpha=0.2, color='r', label='95% CI')\n",
    "plt.legend()\n",
    "plt.title('Байесовская нейронная сеть (PyTorch)')\n",
    "plt.show()"
   ]
  },
  {
   "cell_type": "code",
   "execution_count": 225,
   "id": "53eddc51",
   "metadata": {},
   "outputs": [],
   "source": [
    "class BayesianNonlinear(nn.Module):\n",
    "    def __init__(self, in_features, out_features, activation='sigmoid'):\n",
    "        super().__init__()\n",
    "        self.linear = BayesianLinear(in_features, out_features)\n",
    "        self.activation = activation\n",
    "\n",
    "    def forward(self, x, sample=True):\n",
    "        x = self.linear(x, sample)\n",
    "        if self.activation == 'relu':\n",
    "            return F.relu(x)\n",
    "        elif self.activation == 'softmax':\n",
    "            return F.softmax(x)\n",
    "        elif self.activation == 'sigmoid':\n",
    "            return F.sigmoid(x)\n",
    "        return x\n",
    "\n",
    "    def kl_divergence(self):\n",
    "        return self.linear.kl_divergence()\n",
    "\n",
    "class BNN(nn.Module):\n",
    "    def __init__(self):\n",
    "        super().__init__()\n",
    "        self.layer1 = BayesianLinear(1, 128)\n",
    "        self.layer2 = BayesianNonlinear(128, 64, 'sigmoid')\n",
    "        self.layer3 = BayesianLinear(64, 1)\n",
    "\n",
    "\n",
    "    def forward(self, x, sample=True):\n",
    "        x = F.relu(self.layer1(x, sample))\n",
    "        x = self.layer2(x, sample)\n",
    "        x = self.layer3(x, sample)\n",
    "\n",
    "        return x\n",
    "\n",
    "    def kl_loss(self):\n",
    "        return (self.layer1.kl_divergence() \n",
    "    + self.layer2.kl_divergence()\n",
    "    + self.layer3.kl_divergence())"
   ]
  },
  {
   "cell_type": "code",
   "execution_count": 226,
   "id": "4b17c1ff",
   "metadata": {},
   "outputs": [
    {
     "name": "stdout",
     "output_type": "stream",
     "text": [
      "Epoch 0: MSE Loss = 1187.544, KL Loss = -5035.089\n",
      "Epoch 300: MSE Loss = 883.917, KL Loss = -5104.629\n",
      "Epoch 600: MSE Loss = 586.380, KL Loss = -5047.233\n",
      "Epoch 900: MSE Loss = 303.170, KL Loss = -4955.589\n",
      "Epoch 1200: MSE Loss = 186.585, KL Loss = -4802.924\n",
      "Epoch 1500: MSE Loss = 215.574, KL Loss = -4731.392\n",
      "Epoch 1800: MSE Loss = 141.817, KL Loss = -4726.307\n",
      "Epoch 2100: MSE Loss = 160.765, KL Loss = -4756.516\n",
      "Epoch 2400: MSE Loss = 154.333, KL Loss = -4816.277\n",
      "Epoch 2700: MSE Loss = 127.570, KL Loss = -4898.254\n",
      "Epoch 3000: MSE Loss = 131.510, KL Loss = -4997.482\n",
      "Epoch 3300: MSE Loss = 117.861, KL Loss = -5119.653\n",
      "Epoch 3600: MSE Loss = 121.281, KL Loss = -5260.296\n",
      "Epoch 3900: MSE Loss = 117.592, KL Loss = -5419.200\n",
      "Epoch 4200: MSE Loss = 129.781, KL Loss = -5599.923\n",
      "Epoch 4500: MSE Loss = 113.116, KL Loss = -5776.776\n",
      "Epoch 4800: MSE Loss = 111.679, KL Loss = -5968.224\n",
      "Epoch 5100: MSE Loss = 101.433, KL Loss = -6155.082\n",
      "Epoch 5400: MSE Loss = 100.079, KL Loss = -6357.564\n",
      "Epoch 5700: MSE Loss = 92.897, KL Loss = -6558.918\n",
      "Epoch 6000: MSE Loss = 93.291, KL Loss = -6779.243\n",
      "Epoch 6300: MSE Loss = 100.261, KL Loss = -7007.600\n",
      "Epoch 6600: MSE Loss = 86.213, KL Loss = -7254.239\n",
      "Epoch 6900: MSE Loss = 83.926, KL Loss = -7487.934\n",
      "Epoch 7200: MSE Loss = 86.079, KL Loss = -7716.215\n",
      "Epoch 7500: MSE Loss = 86.153, KL Loss = -7928.060\n",
      "Epoch 7800: MSE Loss = 86.950, KL Loss = -8127.871\n",
      "Epoch 8100: MSE Loss = 84.925, KL Loss = -8305.148\n",
      "Epoch 8400: MSE Loss = 82.216, KL Loss = -8457.992\n",
      "Epoch 8700: MSE Loss = 81.467, KL Loss = -8590.584\n",
      "Epoch 9000: MSE Loss = 83.922, KL Loss = -8706.380\n",
      "Epoch 9300: MSE Loss = 82.459, KL Loss = -8796.007\n",
      "Epoch 9600: MSE Loss = 79.378, KL Loss = -8861.898\n",
      "Epoch 9900: MSE Loss = 81.128, KL Loss = -8912.848\n",
      "Epoch 10200: MSE Loss = 77.867, KL Loss = -8944.086\n",
      "Epoch 10500: MSE Loss = 78.992, KL Loss = -8956.492\n",
      "Epoch 10800: MSE Loss = 78.064, KL Loss = -8982.897\n",
      "Epoch 11100: MSE Loss = 77.903, KL Loss = -8991.177\n",
      "Epoch 11400: MSE Loss = 76.657, KL Loss = -9012.021\n",
      "Epoch 11700: MSE Loss = 77.454, KL Loss = -9019.608\n",
      "Epoch 12000: MSE Loss = 76.830, KL Loss = -9033.827\n",
      "Epoch 12300: MSE Loss = 76.100, KL Loss = -9037.515\n",
      "Epoch 12600: MSE Loss = 75.988, KL Loss = -9039.042\n",
      "Epoch 12900: MSE Loss = 74.720, KL Loss = -9035.811\n",
      "Epoch 13200: MSE Loss = 75.606, KL Loss = -9032.086\n"
     ]
    },
    {
     "ename": "KeyboardInterrupt",
     "evalue": "",
     "output_type": "error",
     "traceback": [
      "\u001b[1;31m---------------------------------------------------------------------------\u001b[0m",
      "\u001b[1;31mKeyboardInterrupt\u001b[0m                         Traceback (most recent call last)",
      "Cell \u001b[1;32mIn[226], line 12\u001b[0m\n\u001b[0;32m     10\u001b[0m kl_loss \u001b[38;5;241m=\u001b[39m model\u001b[38;5;241m.\u001b[39mkl_loss()\n\u001b[0;32m     11\u001b[0m total_loss \u001b[38;5;241m=\u001b[39m mse_loss \u001b[38;5;241m+\u001b[39m kl_loss \u001b[38;5;241m/\u001b[39m \u001b[38;5;28mlen\u001b[39m(X)\n\u001b[1;32m---> 12\u001b[0m \u001b[43mtotal_loss\u001b[49m\u001b[38;5;241;43m.\u001b[39;49m\u001b[43mbackward\u001b[49m\u001b[43m(\u001b[49m\u001b[43m)\u001b[49m\n\u001b[0;32m     13\u001b[0m optimizer\u001b[38;5;241m.\u001b[39mstep()\n\u001b[0;32m     15\u001b[0m \u001b[38;5;28;01mif\u001b[39;00m epoch \u001b[38;5;241m%\u001b[39m \u001b[38;5;241m300\u001b[39m \u001b[38;5;241m==\u001b[39m \u001b[38;5;241m0\u001b[39m: \n",
      "File \u001b[1;32md:\\SPBPU\\1_course\\1_sem\\MLOps\\second_task\\.venv\\Lib\\site-packages\\torch\\_tensor.py:626\u001b[0m, in \u001b[0;36mTensor.backward\u001b[1;34m(self, gradient, retain_graph, create_graph, inputs)\u001b[0m\n\u001b[0;32m    616\u001b[0m \u001b[38;5;28;01mif\u001b[39;00m has_torch_function_unary(\u001b[38;5;28mself\u001b[39m):\n\u001b[0;32m    617\u001b[0m     \u001b[38;5;28;01mreturn\u001b[39;00m handle_torch_function(\n\u001b[0;32m    618\u001b[0m         Tensor\u001b[38;5;241m.\u001b[39mbackward,\n\u001b[0;32m    619\u001b[0m         (\u001b[38;5;28mself\u001b[39m,),\n\u001b[1;32m   (...)\u001b[0m\n\u001b[0;32m    624\u001b[0m         inputs\u001b[38;5;241m=\u001b[39minputs,\n\u001b[0;32m    625\u001b[0m     )\n\u001b[1;32m--> 626\u001b[0m \u001b[43mtorch\u001b[49m\u001b[38;5;241;43m.\u001b[39;49m\u001b[43mautograd\u001b[49m\u001b[38;5;241;43m.\u001b[39;49m\u001b[43mbackward\u001b[49m\u001b[43m(\u001b[49m\n\u001b[0;32m    627\u001b[0m \u001b[43m    \u001b[49m\u001b[38;5;28;43mself\u001b[39;49m\u001b[43m,\u001b[49m\u001b[43m \u001b[49m\u001b[43mgradient\u001b[49m\u001b[43m,\u001b[49m\u001b[43m \u001b[49m\u001b[43mretain_graph\u001b[49m\u001b[43m,\u001b[49m\u001b[43m \u001b[49m\u001b[43mcreate_graph\u001b[49m\u001b[43m,\u001b[49m\u001b[43m \u001b[49m\u001b[43minputs\u001b[49m\u001b[38;5;241;43m=\u001b[39;49m\u001b[43minputs\u001b[49m\n\u001b[0;32m    628\u001b[0m \u001b[43m\u001b[49m\u001b[43m)\u001b[49m\n",
      "File \u001b[1;32md:\\SPBPU\\1_course\\1_sem\\MLOps\\second_task\\.venv\\Lib\\site-packages\\torch\\autograd\\__init__.py:347\u001b[0m, in \u001b[0;36mbackward\u001b[1;34m(tensors, grad_tensors, retain_graph, create_graph, grad_variables, inputs)\u001b[0m\n\u001b[0;32m    342\u001b[0m     retain_graph \u001b[38;5;241m=\u001b[39m create_graph\n\u001b[0;32m    344\u001b[0m \u001b[38;5;66;03m# The reason we repeat the same comment below is that\u001b[39;00m\n\u001b[0;32m    345\u001b[0m \u001b[38;5;66;03m# some Python versions print out the first line of a multi-line function\u001b[39;00m\n\u001b[0;32m    346\u001b[0m \u001b[38;5;66;03m# calls in the traceback and some print out the last line\u001b[39;00m\n\u001b[1;32m--> 347\u001b[0m \u001b[43m_engine_run_backward\u001b[49m\u001b[43m(\u001b[49m\n\u001b[0;32m    348\u001b[0m \u001b[43m    \u001b[49m\u001b[43mtensors\u001b[49m\u001b[43m,\u001b[49m\n\u001b[0;32m    349\u001b[0m \u001b[43m    \u001b[49m\u001b[43mgrad_tensors_\u001b[49m\u001b[43m,\u001b[49m\n\u001b[0;32m    350\u001b[0m \u001b[43m    \u001b[49m\u001b[43mretain_graph\u001b[49m\u001b[43m,\u001b[49m\n\u001b[0;32m    351\u001b[0m \u001b[43m    \u001b[49m\u001b[43mcreate_graph\u001b[49m\u001b[43m,\u001b[49m\n\u001b[0;32m    352\u001b[0m \u001b[43m    \u001b[49m\u001b[43minputs\u001b[49m\u001b[43m,\u001b[49m\n\u001b[0;32m    353\u001b[0m \u001b[43m    \u001b[49m\u001b[43mallow_unreachable\u001b[49m\u001b[38;5;241;43m=\u001b[39;49m\u001b[38;5;28;43;01mTrue\u001b[39;49;00m\u001b[43m,\u001b[49m\n\u001b[0;32m    354\u001b[0m \u001b[43m    \u001b[49m\u001b[43maccumulate_grad\u001b[49m\u001b[38;5;241;43m=\u001b[39;49m\u001b[38;5;28;43;01mTrue\u001b[39;49;00m\u001b[43m,\u001b[49m\n\u001b[0;32m    355\u001b[0m \u001b[43m\u001b[49m\u001b[43m)\u001b[49m\n",
      "File \u001b[1;32md:\\SPBPU\\1_course\\1_sem\\MLOps\\second_task\\.venv\\Lib\\site-packages\\torch\\autograd\\graph.py:823\u001b[0m, in \u001b[0;36m_engine_run_backward\u001b[1;34m(t_outputs, *args, **kwargs)\u001b[0m\n\u001b[0;32m    821\u001b[0m     unregister_hooks \u001b[38;5;241m=\u001b[39m _register_logging_hooks_on_whole_graph(t_outputs)\n\u001b[0;32m    822\u001b[0m \u001b[38;5;28;01mtry\u001b[39;00m:\n\u001b[1;32m--> 823\u001b[0m     \u001b[38;5;28;01mreturn\u001b[39;00m \u001b[43mVariable\u001b[49m\u001b[38;5;241;43m.\u001b[39;49m\u001b[43m_execution_engine\u001b[49m\u001b[38;5;241;43m.\u001b[39;49m\u001b[43mrun_backward\u001b[49m\u001b[43m(\u001b[49m\u001b[43m  \u001b[49m\u001b[38;5;66;43;03m# Calls into the C++ engine to run the backward pass\u001b[39;49;00m\n\u001b[0;32m    824\u001b[0m \u001b[43m        \u001b[49m\u001b[43mt_outputs\u001b[49m\u001b[43m,\u001b[49m\u001b[43m \u001b[49m\u001b[38;5;241;43m*\u001b[39;49m\u001b[43margs\u001b[49m\u001b[43m,\u001b[49m\u001b[43m \u001b[49m\u001b[38;5;241;43m*\u001b[39;49m\u001b[38;5;241;43m*\u001b[39;49m\u001b[43mkwargs\u001b[49m\n\u001b[0;32m    825\u001b[0m \u001b[43m    \u001b[49m\u001b[43m)\u001b[49m  \u001b[38;5;66;03m# Calls into the C++ engine to run the backward pass\u001b[39;00m\n\u001b[0;32m    826\u001b[0m \u001b[38;5;28;01mfinally\u001b[39;00m:\n\u001b[0;32m    827\u001b[0m     \u001b[38;5;28;01mif\u001b[39;00m attach_logging_hooks:\n",
      "\u001b[1;31mKeyboardInterrupt\u001b[0m: "
     ]
    }
   ],
   "source": [
    "# Обучение (аналогично предыдущему, но с увеличенным числом эпох)\n",
    "model = BNN()\n",
    "optimizer = torch.optim.Adam(model.parameters(), lr=0.01)\n",
    "n_epochs = 15000\n",
    "\n",
    "for epoch in range(n_epochs):\n",
    "    optimizer.zero_grad()\n",
    "    preds = model(X)\n",
    "    mse_loss = F.mse_loss(preds, y)\n",
    "    kl_loss = model.kl_loss()\n",
    "    total_loss = mse_loss + kl_loss / len(X)\n",
    "    total_loss.backward()\n",
    "    optimizer.step()\n",
    "    \n",
    "    if epoch % 300 == 0: \n",
    "        print(f'Epoch {epoch}: MSE Loss = {mse_loss.item():.3f}, KL Loss = {kl_loss.item():.3f}')\n",
    "\n",
    "    if mse_loss.item() <= 14 and kl_loss.item() <= 500:\n",
    "        print(f\"Ранняя остановка на эпохе {epoch}: MSE Loss = {mse_loss.item():.3f}, KL Loss = {kl_loss.item():.3f}\")\n",
    "        break\n",
    "\n",
    "# Визуализация (аналогично предыдущей)\n",
    "model.eval()\n",
    "with torch.no_grad():\n",
    "    samples = [model(X).numpy() for _ in range(100)]\n",
    "    y_mean = np.mean(samples, axis=0)\n",
    "    y_std = np.std(samples, axis=0)\n",
    "\n",
    "plt.figure(figsize=(10, 5))\n",
    "plt.scatter(X.numpy(), y.numpy(), alpha=0.3, label='Данные')\n",
    "plt.plot(X.numpy(), y_mean, 'r', lw=2, label='Среднее предсказание')\n",
    "plt.fill_between(X.numpy().ravel(), \n",
    "                y_mean.ravel() - 2*y_std.ravel(),\n",
    "                y_mean.ravel() + 2*y_std.ravel(),\n",
    "                alpha=0.2, color='r', label='95% CI')\n",
    "plt.legend()\n",
    "plt.title('Байесовская нейронная сеть с нелинейными слоями (PyTorch)')\n",
    "plt.show()"
   ]
  },
  {
   "cell_type": "markdown",
   "id": "0e47785c",
   "metadata": {},
   "source": [
    "self.layer1 = BayesianLinear(1, 16)\n",
    "self.layer2 = BayesianNonlinear(16, 16, 'relu')\n",
    "self.layer3 = BayesianNonlinear(16, 9, 'relu')\n",
    "self.layer4 = BayesianLinear(9, 1)\n",
    "\n",
    "Epoch 14700: MSE Loss = 94.208, KL Loss = -160.332\n"
   ]
  },
  {
   "cell_type": "markdown",
   "id": "e2e30dd5",
   "metadata": {},
   "source": [
    "self.layer1 = BayesianLinear(1, 32)\n",
    "        self.layer2 = BayesianNonlinear(32, 16, 'relu')\n",
    "        self.layer3 = BayesianNonlinear(16, 9, 'relu')\n",
    "        self.layer4 = BayesianLinear(9, 1)\n",
    "\n",
    "Epoch 14700: MSE Loss = 101.043, KL Loss = -572.189\n"
   ]
  },
  {
   "cell_type": "markdown",
   "id": "05c321e3",
   "metadata": {},
   "source": [
    "        self.layer1 = BayesianLinear(1, 16)\n",
    "        self.layer2 = BayesianNonlinear(16, 8, 'relu')\n",
    "        self.layer3 = BayesianNonlinear(8, 4, 'relu')\n",
    "        self.layer4 = BayesianLinear(4, 1)\n",
    "\n",
    "        Epoch 14700: MSE Loss = 99.652, KL Loss = 297.138\n"
   ]
  },
  {
   "cell_type": "markdown",
   "id": "11d0ac2f",
   "metadata": {},
   "source": [
    "self.layer1 = BayesianLinear(1, 32)\n",
    "        self.layer2 = BayesianNonlinear(32, 16, 'sigmoid')\n",
    "        self.layer3 = BayesianNonlinear(16, 8, 'relu')\n",
    "        self.layer4 = BayesianLinear(8, 1)\n",
    "\n",
    "        Epoch 14700: MSE Loss = 75.948, KL Loss = -119.026\n"
   ]
  },
  {
   "cell_type": "markdown",
   "id": "d06fb87a",
   "metadata": {},
   "source": []
  },
  {
   "cell_type": "markdown",
   "id": "d7bf2980",
   "metadata": {},
   "source": []
  }
 ],
 "metadata": {
  "kernelspec": {
   "display_name": "Python 3",
   "language": "python",
   "name": "python3"
  },
  "language_info": {
   "codemirror_mode": {
    "name": "ipython",
    "version": 3
   },
   "file_extension": ".py",
   "mimetype": "text/x-python",
   "name": "python",
   "nbconvert_exporter": "python",
   "pygments_lexer": "ipython3",
   "version": "3.12.5"
  }
 },
 "nbformat": 4,
 "nbformat_minor": 5
}
